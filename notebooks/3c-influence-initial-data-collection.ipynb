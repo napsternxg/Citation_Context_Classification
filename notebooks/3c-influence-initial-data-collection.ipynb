{
 "cells": [
  {
   "cell_type": "code",
   "execution_count": 1,
   "metadata": {
    "_cell_guid": "b1076dfc-b9ad-4769-8c92-a6c4dae69d19",
    "_uuid": "8f2839f25d086af736a60e9eeb907d3b93b6e0e5"
   },
   "outputs": [
    {
     "name": "stdout",
     "output_type": "stream",
     "text": [
      "/kaggle/input/3c-shared-task-purpose/test.csv\n",
      "/kaggle/input/3c-shared-task-purpose/sample_submission.csv\n",
      "/kaggle/input/3c-shared-task-purpose/train.csv\n",
      "/kaggle/input/3c-shared-task-influence/test.csv\n",
      "/kaggle/input/3c-shared-task-influence/sample_submission.csv\n",
      "/kaggle/input/3c-shared-task-influence/train.csv\n"
     ]
    }
   ],
   "source": [
    "# This Python 3 environment comes with many helpful analytics libraries installed\n",
    "# It is defined by the kaggle/python Docker image: https://github.com/kaggle/docker-python\n",
    "# For example, here's several helpful packages to load\n",
    "\n",
    "import numpy as np # linear algebra\n",
    "import pandas as pd # data processing, CSV file I/O (e.g. pd.read_csv)\n",
    "\n",
    "# Input data files are available in the read-only \"../input/\" directory\n",
    "# For example, running this (by clicking run or pressing Shift+Enter) will list all files under the input directory\n",
    "\n",
    "from pathlib import Path\n",
    "import os\n",
    "DATA_DIR=Path('/kaggle/input')\n",
    "for dirname, _, filenames in os.walk(DATA_DIR):\n",
    "    for filename in filenames:\n",
    "        print(os.path.join(dirname, filename))\n",
    "\n",
    "# You can write up to 5GB to the current directory (/kaggle/working/) that gets preserved as output when you create a version using \"Save & Run All\" \n",
    "# You can also write temporary files to /kaggle/temp/, but they won't be saved outside of the current session"
   ]
  },
  {
   "cell_type": "code",
   "execution_count": 2,
   "metadata": {
    "_cell_guid": "79c7e3d0-c299-4dcb-8224-4455121ee9b0",
    "_uuid": "d629ff2d2480ee46fbb7e2d37f6b5fab8052498a"
   },
   "outputs": [],
   "source": [
    "TRAIN_PATH = DATA_DIR / \"3c-shared-task-influence\" / \"train.csv\"\n",
    "TEST_PATH = DATA_DIR / \"3c-shared-task-influence\" / \"test.csv\""
   ]
  },
  {
   "cell_type": "code",
   "execution_count": 3,
   "metadata": {},
   "outputs": [
    {
     "name": "stdout",
     "output_type": "stream",
     "text": [
      "\r\n",
      "\r\n",
      "\r\n",
      "\r\n",
      "\r\n",
      "\r\n",
      "\r\n",
      "\r\n",
      "\r\n",
      "\r\n"
     ]
    }
   ],
   "source": [
    "! head /kaggle/input/3c-shared-task-influence/sample_submission.csv"
   ]
  },
  {
   "cell_type": "code",
   "execution_count": 4,
   "metadata": {},
   "outputs": [],
   "source": [
    "import pandas as pd"
   ]
  },
  {
   "cell_type": "code",
   "execution_count": 5,
   "metadata": {},
   "outputs": [
    {
     "data": {
      "text/plain": [
       "Index(['unique_id', 'core_id', 'citing_title', 'citing_author', 'cited_title',\n",
       "       'cited_author', 'citation_context', 'citation_class_label'],\n",
       "      dtype='object')"
      ]
     },
     "execution_count": 5,
     "metadata": {},
     "output_type": "execute_result"
    }
   ],
   "source": [
    "df_train = pd.read_csv(str(TRAIN_PATH).replace(\"influence\", \"purpose\"))\n",
    "df_train.columns"
   ]
  },
  {
   "cell_type": "code",
   "execution_count": 6,
   "metadata": {},
   "outputs": [
    {
     "data": {
      "text/html": [
       "<div>\n",
       "<style scoped>\n",
       "    .dataframe tbody tr th:only-of-type {\n",
       "        vertical-align: middle;\n",
       "    }\n",
       "\n",
       "    .dataframe tbody tr th {\n",
       "        vertical-align: top;\n",
       "    }\n",
       "\n",
       "    .dataframe thead th {\n",
       "        text-align: right;\n",
       "    }\n",
       "</style>\n",
       "<table border=\"1\" class=\"dataframe\">\n",
       "  <thead>\n",
       "    <tr style=\"text-align: right;\">\n",
       "      <th></th>\n",
       "      <th>unique_id</th>\n",
       "      <th>core_id</th>\n",
       "      <th>citing_title</th>\n",
       "      <th>citing_author</th>\n",
       "      <th>cited_title</th>\n",
       "      <th>cited_author</th>\n",
       "      <th>citation_context</th>\n",
       "      <th>citation_class_label</th>\n",
       "    </tr>\n",
       "  </thead>\n",
       "  <tbody>\n",
       "    <tr>\n",
       "      <th>0</th>\n",
       "      <td>CC1</td>\n",
       "      <td>158977742</td>\n",
       "      <td>Ontology-Based Recommendation of Editorial Pro...</td>\n",
       "      <td>Thiviyan Thanapalasingam</td>\n",
       "      <td>Web search personalization with ontological us...</td>\n",
       "      <td>Sieg</td>\n",
       "      <td>They usually generate user models that describ...</td>\n",
       "      <td>5</td>\n",
       "    </tr>\n",
       "    <tr>\n",
       "      <th>1</th>\n",
       "      <td>CC2</td>\n",
       "      <td>158977742</td>\n",
       "      <td>Ontology-Based Recommendation of Editorial Pro...</td>\n",
       "      <td>Thiviyan Thanapalasingam</td>\n",
       "      <td>Exploring Scholarly Data with Rexplore</td>\n",
       "      <td>Osborne</td>\n",
       "      <td>The Computer Science Ontology (CSO)[3]is a lar...</td>\n",
       "      <td>0</td>\n",
       "    </tr>\n",
       "    <tr>\n",
       "      <th>2</th>\n",
       "      <td>CC3</td>\n",
       "      <td>158977742</td>\n",
       "      <td>Ontology-Based Recommendation of Editorial Pro...</td>\n",
       "      <td>Thiviyan Thanapalasingam</td>\n",
       "      <td>Klink-2: Integrating Multiple Web Sources to G...</td>\n",
       "      <td>Osborne</td>\n",
       "      <td>In order to do so, we characterized all SN pub...</td>\n",
       "      <td>0</td>\n",
       "    </tr>\n",
       "    <tr>\n",
       "      <th>3</th>\n",
       "      <td>CC4</td>\n",
       "      <td>158977742</td>\n",
       "      <td>Ontology-Based Recommendation of Editorial Pro...</td>\n",
       "      <td>Thiviyan Thanapalasingam</td>\n",
       "      <td>Forecasting the Spreading of Technologies in R...</td>\n",
       "      <td>Osborne</td>\n",
       "      <td>This API supports a number of applications, in...</td>\n",
       "      <td>0</td>\n",
       "    </tr>\n",
       "    <tr>\n",
       "      <th>4</th>\n",
       "      <td>CC5</td>\n",
       "      <td>158977742</td>\n",
       "      <td>Ontology-Based Recommendation of Editorial Pro...</td>\n",
       "      <td>Thiviyan Thanapalasingam</td>\n",
       "      <td>Supporting Springer Nature Editors by means of...</td>\n",
       "      <td>Osborne</td>\n",
       "      <td>It works according to three main steps:1) It r...</td>\n",
       "      <td>5</td>\n",
       "    </tr>\n",
       "  </tbody>\n",
       "</table>\n",
       "</div>"
      ],
      "text/plain": [
       "  unique_id    core_id                                       citing_title  \\\n",
       "0       CC1  158977742  Ontology-Based Recommendation of Editorial Pro...   \n",
       "1       CC2  158977742  Ontology-Based Recommendation of Editorial Pro...   \n",
       "2       CC3  158977742  Ontology-Based Recommendation of Editorial Pro...   \n",
       "3       CC4  158977742  Ontology-Based Recommendation of Editorial Pro...   \n",
       "4       CC5  158977742  Ontology-Based Recommendation of Editorial Pro...   \n",
       "\n",
       "              citing_author  \\\n",
       "0  Thiviyan Thanapalasingam   \n",
       "1  Thiviyan Thanapalasingam   \n",
       "2  Thiviyan Thanapalasingam   \n",
       "3  Thiviyan Thanapalasingam   \n",
       "4  Thiviyan Thanapalasingam   \n",
       "\n",
       "                                         cited_title cited_author  \\\n",
       "0  Web search personalization with ontological us...         Sieg   \n",
       "1             Exploring Scholarly Data with Rexplore      Osborne   \n",
       "2  Klink-2: Integrating Multiple Web Sources to G...      Osborne   \n",
       "3  Forecasting the Spreading of Technologies in R...      Osborne   \n",
       "4  Supporting Springer Nature Editors by means of...      Osborne   \n",
       "\n",
       "                                    citation_context  citation_class_label  \n",
       "0  They usually generate user models that describ...                     5  \n",
       "1  The Computer Science Ontology (CSO)[3]is a lar...                     0  \n",
       "2  In order to do so, we characterized all SN pub...                     0  \n",
       "3  This API supports a number of applications, in...                     0  \n",
       "4  It works according to three main steps:1) It r...                     5  "
      ]
     },
     "execution_count": 6,
     "metadata": {},
     "output_type": "execute_result"
    }
   ],
   "source": [
    "df_train.head()"
   ]
  },
  {
   "cell_type": "code",
   "execution_count": 7,
   "metadata": {},
   "outputs": [
    {
     "data": {
      "text/html": [
       "<div>\n",
       "<style scoped>\n",
       "    .dataframe tbody tr th:only-of-type {\n",
       "        vertical-align: middle;\n",
       "    }\n",
       "\n",
       "    .dataframe tbody tr th {\n",
       "        vertical-align: top;\n",
       "    }\n",
       "\n",
       "    .dataframe thead th {\n",
       "        text-align: right;\n",
       "    }\n",
       "</style>\n",
       "<table border=\"1\" class=\"dataframe\">\n",
       "  <thead>\n",
       "    <tr style=\"text-align: right;\">\n",
       "      <th></th>\n",
       "      <th>unique_id</th>\n",
       "      <th>core_id</th>\n",
       "      <th>citing_title</th>\n",
       "      <th>citing_author</th>\n",
       "      <th>cited_title</th>\n",
       "      <th>cited_author</th>\n",
       "      <th>citation_context</th>\n",
       "      <th>citation_influence_label</th>\n",
       "      <th>citation_class_label</th>\n",
       "    </tr>\n",
       "  </thead>\n",
       "  <tbody>\n",
       "    <tr>\n",
       "      <th>0</th>\n",
       "      <td>CC1</td>\n",
       "      <td>158977742</td>\n",
       "      <td>Ontology-Based Recommendation of Editorial Pro...</td>\n",
       "      <td>Thiviyan Thanapalasingam</td>\n",
       "      <td>Web search personalization with ontological us...</td>\n",
       "      <td>Sieg</td>\n",
       "      <td>They usually generate user models that describ...</td>\n",
       "      <td>0</td>\n",
       "      <td>5</td>\n",
       "    </tr>\n",
       "    <tr>\n",
       "      <th>1</th>\n",
       "      <td>CC2</td>\n",
       "      <td>158977742</td>\n",
       "      <td>Ontology-Based Recommendation of Editorial Pro...</td>\n",
       "      <td>Thiviyan Thanapalasingam</td>\n",
       "      <td>Exploring Scholarly Data with Rexplore</td>\n",
       "      <td>Osborne</td>\n",
       "      <td>The Computer Science Ontology (CSO)[3]is a lar...</td>\n",
       "      <td>0</td>\n",
       "      <td>0</td>\n",
       "    </tr>\n",
       "    <tr>\n",
       "      <th>2</th>\n",
       "      <td>CC3</td>\n",
       "      <td>158977742</td>\n",
       "      <td>Ontology-Based Recommendation of Editorial Pro...</td>\n",
       "      <td>Thiviyan Thanapalasingam</td>\n",
       "      <td>Klink-2: Integrating Multiple Web Sources to G...</td>\n",
       "      <td>Osborne</td>\n",
       "      <td>In order to do so, we characterized all SN pub...</td>\n",
       "      <td>0</td>\n",
       "      <td>0</td>\n",
       "    </tr>\n",
       "    <tr>\n",
       "      <th>3</th>\n",
       "      <td>CC4</td>\n",
       "      <td>158977742</td>\n",
       "      <td>Ontology-Based Recommendation of Editorial Pro...</td>\n",
       "      <td>Thiviyan Thanapalasingam</td>\n",
       "      <td>Forecasting the Spreading of Technologies in R...</td>\n",
       "      <td>Osborne</td>\n",
       "      <td>This API supports a number of applications, in...</td>\n",
       "      <td>1</td>\n",
       "      <td>0</td>\n",
       "    </tr>\n",
       "    <tr>\n",
       "      <th>4</th>\n",
       "      <td>CC5</td>\n",
       "      <td>158977742</td>\n",
       "      <td>Ontology-Based Recommendation of Editorial Pro...</td>\n",
       "      <td>Thiviyan Thanapalasingam</td>\n",
       "      <td>Supporting Springer Nature Editors by means of...</td>\n",
       "      <td>Osborne</td>\n",
       "      <td>It works according to three main steps:1) It r...</td>\n",
       "      <td>1</td>\n",
       "      <td>5</td>\n",
       "    </tr>\n",
       "  </tbody>\n",
       "</table>\n",
       "</div>"
      ],
      "text/plain": [
       "  unique_id    core_id                                       citing_title  \\\n",
       "0       CC1  158977742  Ontology-Based Recommendation of Editorial Pro...   \n",
       "1       CC2  158977742  Ontology-Based Recommendation of Editorial Pro...   \n",
       "2       CC3  158977742  Ontology-Based Recommendation of Editorial Pro...   \n",
       "3       CC4  158977742  Ontology-Based Recommendation of Editorial Pro...   \n",
       "4       CC5  158977742  Ontology-Based Recommendation of Editorial Pro...   \n",
       "\n",
       "              citing_author  \\\n",
       "0  Thiviyan Thanapalasingam   \n",
       "1  Thiviyan Thanapalasingam   \n",
       "2  Thiviyan Thanapalasingam   \n",
       "3  Thiviyan Thanapalasingam   \n",
       "4  Thiviyan Thanapalasingam   \n",
       "\n",
       "                                         cited_title cited_author  \\\n",
       "0  Web search personalization with ontological us...         Sieg   \n",
       "1             Exploring Scholarly Data with Rexplore      Osborne   \n",
       "2  Klink-2: Integrating Multiple Web Sources to G...      Osborne   \n",
       "3  Forecasting the Spreading of Technologies in R...      Osborne   \n",
       "4  Supporting Springer Nature Editors by means of...      Osborne   \n",
       "\n",
       "                                    citation_context  \\\n",
       "0  They usually generate user models that describ...   \n",
       "1  The Computer Science Ontology (CSO)[3]is a lar...   \n",
       "2  In order to do so, we characterized all SN pub...   \n",
       "3  This API supports a number of applications, in...   \n",
       "4  It works according to three main steps:1) It r...   \n",
       "\n",
       "   citation_influence_label  citation_class_label  \n",
       "0                         0                     5  \n",
       "1                         0                     0  \n",
       "2                         0                     0  \n",
       "3                         1                     0  \n",
       "4                         1                     5  "
      ]
     },
     "execution_count": 7,
     "metadata": {},
     "output_type": "execute_result"
    }
   ],
   "source": [
    "df_train = pd.read_csv(TRAIN_PATH).merge(\n",
    "    pd.read_csv(str(TRAIN_PATH).replace(\"influence\", \"purpose\"))[[\"unique_id\", \"citation_class_label\"]],\n",
    "    on=\"unique_id\"\n",
    ")\n",
    "df_train.head()"
   ]
  },
  {
   "cell_type": "code",
   "execution_count": 8,
   "metadata": {},
   "outputs": [
    {
     "data": {
      "text/html": [
       "<div>\n",
       "<style scoped>\n",
       "    .dataframe tbody tr th:only-of-type {\n",
       "        vertical-align: middle;\n",
       "    }\n",
       "\n",
       "    .dataframe tbody tr th {\n",
       "        vertical-align: top;\n",
       "    }\n",
       "\n",
       "    .dataframe thead th {\n",
       "        text-align: right;\n",
       "    }\n",
       "</style>\n",
       "<table border=\"1\" class=\"dataframe\">\n",
       "  <thead>\n",
       "    <tr style=\"text-align: right;\">\n",
       "      <th></th>\n",
       "      <th>unique_id</th>\n",
       "      <th>core_id</th>\n",
       "      <th>citing_title</th>\n",
       "      <th>citing_author</th>\n",
       "      <th>cited_title</th>\n",
       "      <th>cited_author</th>\n",
       "      <th>citation_context</th>\n",
       "    </tr>\n",
       "  </thead>\n",
       "  <tbody>\n",
       "    <tr>\n",
       "      <th>0</th>\n",
       "      <td>CCT1</td>\n",
       "      <td>81153632</td>\n",
       "      <td>Two steps back, one step forward: reconstructi...</td>\n",
       "      <td>Severin Hohensinner</td>\n",
       "      <td>The English village community examined in its ...</td>\n",
       "      <td>Seebohm</td>\n",
       "      <td>In historical research, regressive methods mov...</td>\n",
       "    </tr>\n",
       "    <tr>\n",
       "      <th>1</th>\n",
       "      <td>CCT2</td>\n",
       "      <td>81153632</td>\n",
       "      <td>Two steps back, one step forward: reconstructi...</td>\n",
       "      <td>Severin Hohensinner</td>\n",
       "      <td>Die italienischen Begr nder der Wiener Donauka...</td>\n",
       "      <td>Slezak</td>\n",
       "      <td>For example, a new cut-off channel at the Dona...</td>\n",
       "    </tr>\n",
       "    <tr>\n",
       "      <th>2</th>\n",
       "      <td>CCT3</td>\n",
       "      <td>81153632</td>\n",
       "      <td>Two steps back, one step forward: reconstructi...</td>\n",
       "      <td>Severin Hohensinner</td>\n",
       "      <td>Wien im Bild historischer Karten Die Entwicklu...</td>\n",
       "      <td>Opll</td>\n",
       "      <td>It can be considered as the first map of the V...</td>\n",
       "    </tr>\n",
       "    <tr>\n",
       "      <th>3</th>\n",
       "      <td>CCT4</td>\n",
       "      <td>81153632</td>\n",
       "      <td>Two steps back, one step forward: reconstructi...</td>\n",
       "      <td>Severin Hohensinner</td>\n",
       "      <td>The hydraulic geometry of stream channels and ...</td>\n",
       "      <td>Leopold</td>\n",
       "      <td>According to the ''hydraulic geometry'' approa...</td>\n",
       "    </tr>\n",
       "    <tr>\n",
       "      <th>4</th>\n",
       "      <td>CCT5</td>\n",
       "      <td>81153632</td>\n",
       "      <td>Two steps back, one step forward: reconstructi...</td>\n",
       "      <td>Severin Hohensinner</td>\n",
       "      <td>From memory to written record</td>\n",
       "      <td>Clanchy</td>\n",
       "      <td>Historians ask for the motivation and interest...</td>\n",
       "    </tr>\n",
       "  </tbody>\n",
       "</table>\n",
       "</div>"
      ],
      "text/plain": [
       "  unique_id   core_id                                       citing_title  \\\n",
       "0      CCT1  81153632  Two steps back, one step forward: reconstructi...   \n",
       "1      CCT2  81153632  Two steps back, one step forward: reconstructi...   \n",
       "2      CCT3  81153632  Two steps back, one step forward: reconstructi...   \n",
       "3      CCT4  81153632  Two steps back, one step forward: reconstructi...   \n",
       "4      CCT5  81153632  Two steps back, one step forward: reconstructi...   \n",
       "\n",
       "         citing_author                                        cited_title  \\\n",
       "0  Severin Hohensinner  The English village community examined in its ...   \n",
       "1  Severin Hohensinner  Die italienischen Begr nder der Wiener Donauka...   \n",
       "2  Severin Hohensinner  Wien im Bild historischer Karten Die Entwicklu...   \n",
       "3  Severin Hohensinner  The hydraulic geometry of stream channels and ...   \n",
       "4  Severin Hohensinner                      From memory to written record   \n",
       "\n",
       "  cited_author                                   citation_context  \n",
       "0      Seebohm  In historical research, regressive methods mov...  \n",
       "1       Slezak  For example, a new cut-off channel at the Dona...  \n",
       "2         Opll  It can be considered as the first map of the V...  \n",
       "3      Leopold  According to the ''hydraulic geometry'' approa...  \n",
       "4      Clanchy  Historians ask for the motivation and interest...  "
      ]
     },
     "execution_count": 8,
     "metadata": {},
     "output_type": "execute_result"
    }
   ],
   "source": [
    "df_test = pd.read_csv(TEST_PATH).merge(\n",
    "    pd.read_csv(str(TEST_PATH).replace(\"influence\", \"purpose\"))[[\"unique_id\"]],\n",
    "    on=\"unique_id\"\n",
    ")\n",
    "df_test.head()"
   ]
  },
  {
   "cell_type": "code",
   "execution_count": 9,
   "metadata": {},
   "outputs": [
    {
     "data": {
      "text/html": [
       "<div>\n",
       "<style scoped>\n",
       "    .dataframe tbody tr th:only-of-type {\n",
       "        vertical-align: middle;\n",
       "    }\n",
       "\n",
       "    .dataframe tbody tr th {\n",
       "        vertical-align: top;\n",
       "    }\n",
       "\n",
       "    .dataframe thead th {\n",
       "        text-align: right;\n",
       "    }\n",
       "</style>\n",
       "<table border=\"1\" class=\"dataframe\">\n",
       "  <thead>\n",
       "    <tr style=\"text-align: right;\">\n",
       "      <th></th>\n",
       "      <th>unique_id</th>\n",
       "      <th>core_id</th>\n",
       "      <th>citing_title</th>\n",
       "      <th>citing_author</th>\n",
       "      <th>cited_title</th>\n",
       "      <th>cited_author</th>\n",
       "      <th>citation_context</th>\n",
       "      <th>citation_influence_label</th>\n",
       "      <th>citation_class_label</th>\n",
       "      <th>split</th>\n",
       "    </tr>\n",
       "  </thead>\n",
       "  <tbody>\n",
       "    <tr>\n",
       "      <th>0</th>\n",
       "      <td>CC1</td>\n",
       "      <td>158977742</td>\n",
       "      <td>Ontology-Based Recommendation of Editorial Pro...</td>\n",
       "      <td>Thiviyan Thanapalasingam</td>\n",
       "      <td>Web search personalization with ontological us...</td>\n",
       "      <td>Sieg</td>\n",
       "      <td>They usually generate user models that describ...</td>\n",
       "      <td>0.0</td>\n",
       "      <td>5.0</td>\n",
       "      <td>train</td>\n",
       "    </tr>\n",
       "    <tr>\n",
       "      <th>1</th>\n",
       "      <td>CC2</td>\n",
       "      <td>158977742</td>\n",
       "      <td>Ontology-Based Recommendation of Editorial Pro...</td>\n",
       "      <td>Thiviyan Thanapalasingam</td>\n",
       "      <td>Exploring Scholarly Data with Rexplore</td>\n",
       "      <td>Osborne</td>\n",
       "      <td>The Computer Science Ontology (CSO)[3]is a lar...</td>\n",
       "      <td>0.0</td>\n",
       "      <td>0.0</td>\n",
       "      <td>train</td>\n",
       "    </tr>\n",
       "    <tr>\n",
       "      <th>2</th>\n",
       "      <td>CC3</td>\n",
       "      <td>158977742</td>\n",
       "      <td>Ontology-Based Recommendation of Editorial Pro...</td>\n",
       "      <td>Thiviyan Thanapalasingam</td>\n",
       "      <td>Klink-2: Integrating Multiple Web Sources to G...</td>\n",
       "      <td>Osborne</td>\n",
       "      <td>In order to do so, we characterized all SN pub...</td>\n",
       "      <td>0.0</td>\n",
       "      <td>0.0</td>\n",
       "      <td>train</td>\n",
       "    </tr>\n",
       "    <tr>\n",
       "      <th>3</th>\n",
       "      <td>CC4</td>\n",
       "      <td>158977742</td>\n",
       "      <td>Ontology-Based Recommendation of Editorial Pro...</td>\n",
       "      <td>Thiviyan Thanapalasingam</td>\n",
       "      <td>Forecasting the Spreading of Technologies in R...</td>\n",
       "      <td>Osborne</td>\n",
       "      <td>This API supports a number of applications, in...</td>\n",
       "      <td>1.0</td>\n",
       "      <td>0.0</td>\n",
       "      <td>train</td>\n",
       "    </tr>\n",
       "    <tr>\n",
       "      <th>4</th>\n",
       "      <td>CC5</td>\n",
       "      <td>158977742</td>\n",
       "      <td>Ontology-Based Recommendation of Editorial Pro...</td>\n",
       "      <td>Thiviyan Thanapalasingam</td>\n",
       "      <td>Supporting Springer Nature Editors by means of...</td>\n",
       "      <td>Osborne</td>\n",
       "      <td>It works according to three main steps:1) It r...</td>\n",
       "      <td>1.0</td>\n",
       "      <td>5.0</td>\n",
       "      <td>train</td>\n",
       "    </tr>\n",
       "  </tbody>\n",
       "</table>\n",
       "</div>"
      ],
      "text/plain": [
       "  unique_id    core_id                                       citing_title  \\\n",
       "0       CC1  158977742  Ontology-Based Recommendation of Editorial Pro...   \n",
       "1       CC2  158977742  Ontology-Based Recommendation of Editorial Pro...   \n",
       "2       CC3  158977742  Ontology-Based Recommendation of Editorial Pro...   \n",
       "3       CC4  158977742  Ontology-Based Recommendation of Editorial Pro...   \n",
       "4       CC5  158977742  Ontology-Based Recommendation of Editorial Pro...   \n",
       "\n",
       "              citing_author  \\\n",
       "0  Thiviyan Thanapalasingam   \n",
       "1  Thiviyan Thanapalasingam   \n",
       "2  Thiviyan Thanapalasingam   \n",
       "3  Thiviyan Thanapalasingam   \n",
       "4  Thiviyan Thanapalasingam   \n",
       "\n",
       "                                         cited_title cited_author  \\\n",
       "0  Web search personalization with ontological us...         Sieg   \n",
       "1             Exploring Scholarly Data with Rexplore      Osborne   \n",
       "2  Klink-2: Integrating Multiple Web Sources to G...      Osborne   \n",
       "3  Forecasting the Spreading of Technologies in R...      Osborne   \n",
       "4  Supporting Springer Nature Editors by means of...      Osborne   \n",
       "\n",
       "                                    citation_context  \\\n",
       "0  They usually generate user models that describ...   \n",
       "1  The Computer Science Ontology (CSO)[3]is a lar...   \n",
       "2  In order to do so, we characterized all SN pub...   \n",
       "3  This API supports a number of applications, in...   \n",
       "4  It works according to three main steps:1) It r...   \n",
       "\n",
       "   citation_influence_label  citation_class_label  split  \n",
       "0                       0.0                   5.0  train  \n",
       "1                       0.0                   0.0  train  \n",
       "2                       0.0                   0.0  train  \n",
       "3                       1.0                   0.0  train  \n",
       "4                       1.0                   5.0  train  "
      ]
     },
     "execution_count": 9,
     "metadata": {},
     "output_type": "execute_result"
    }
   ],
   "source": [
    "df = pd.concat([\n",
    "    df_train.assign(split=\"train\"),\n",
    "    df_test.assign(split=\"test\"),\n",
    "], axis=0, sort=False).reset_index(drop=True)\n",
    "df.head()"
   ]
  },
  {
   "cell_type": "code",
   "execution_count": 10,
   "metadata": {},
   "outputs": [
    {
     "data": {
      "text/plain": [
       "train    3000\n",
       "test     1000\n",
       "Name: split, dtype: int64"
      ]
     },
     "execution_count": 10,
     "metadata": {},
     "output_type": "execute_result"
    }
   ],
   "source": [
    "df.split.value_counts()"
   ]
  },
  {
   "cell_type": "code",
   "execution_count": 11,
   "metadata": {},
   "outputs": [
    {
     "data": {
      "text/html": [
       "<div>\n",
       "<style scoped>\n",
       "    .dataframe tbody tr th:only-of-type {\n",
       "        vertical-align: middle;\n",
       "    }\n",
       "\n",
       "    .dataframe tbody tr th {\n",
       "        vertical-align: top;\n",
       "    }\n",
       "\n",
       "    .dataframe thead th {\n",
       "        text-align: right;\n",
       "    }\n",
       "</style>\n",
       "<table border=\"1\" class=\"dataframe\">\n",
       "  <thead>\n",
       "    <tr style=\"text-align: right;\">\n",
       "      <th>split</th>\n",
       "      <th>train</th>\n",
       "    </tr>\n",
       "    <tr>\n",
       "      <th>citation_influence_label</th>\n",
       "      <th></th>\n",
       "    </tr>\n",
       "  </thead>\n",
       "  <tbody>\n",
       "    <tr>\n",
       "      <th>0.0</th>\n",
       "      <td>1568</td>\n",
       "    </tr>\n",
       "    <tr>\n",
       "      <th>1.0</th>\n",
       "      <td>1432</td>\n",
       "    </tr>\n",
       "  </tbody>\n",
       "</table>\n",
       "</div>"
      ],
      "text/plain": [
       "split                     train\n",
       "citation_influence_label       \n",
       "0.0                        1568\n",
       "1.0                        1432"
      ]
     },
     "execution_count": 11,
     "metadata": {},
     "output_type": "execute_result"
    }
   ],
   "source": [
    "df.pivot_table(index=\"citation_influence_label\", columns=\"split\", values=\"unique_id\", aggfunc=len).sort_values(\"train\", ascending=False)"
   ]
  },
  {
   "cell_type": "code",
   "execution_count": 12,
   "metadata": {},
   "outputs": [
    {
     "data": {
      "text/html": [
       "<div>\n",
       "<style scoped>\n",
       "    .dataframe tbody tr th:only-of-type {\n",
       "        vertical-align: middle;\n",
       "    }\n",
       "\n",
       "    .dataframe tbody tr th {\n",
       "        vertical-align: top;\n",
       "    }\n",
       "\n",
       "    .dataframe thead th {\n",
       "        text-align: right;\n",
       "    }\n",
       "</style>\n",
       "<table border=\"1\" class=\"dataframe\">\n",
       "  <thead>\n",
       "    <tr style=\"text-align: right;\">\n",
       "      <th>split</th>\n",
       "      <th>train</th>\n",
       "    </tr>\n",
       "    <tr>\n",
       "      <th>citation_class_label</th>\n",
       "      <th></th>\n",
       "    </tr>\n",
       "  </thead>\n",
       "  <tbody>\n",
       "    <tr>\n",
       "      <th>0.0</th>\n",
       "      <td>1648</td>\n",
       "    </tr>\n",
       "    <tr>\n",
       "      <th>5.0</th>\n",
       "      <td>475</td>\n",
       "    </tr>\n",
       "    <tr>\n",
       "      <th>1.0</th>\n",
       "      <td>368</td>\n",
       "    </tr>\n",
       "    <tr>\n",
       "      <th>4.0</th>\n",
       "      <td>276</td>\n",
       "    </tr>\n",
       "    <tr>\n",
       "      <th>2.0</th>\n",
       "      <td>171</td>\n",
       "    </tr>\n",
       "    <tr>\n",
       "      <th>3.0</th>\n",
       "      <td>62</td>\n",
       "    </tr>\n",
       "  </tbody>\n",
       "</table>\n",
       "</div>"
      ],
      "text/plain": [
       "split                 train\n",
       "citation_class_label       \n",
       "0.0                    1648\n",
       "5.0                     475\n",
       "1.0                     368\n",
       "4.0                     276\n",
       "2.0                     171\n",
       "3.0                      62"
      ]
     },
     "execution_count": 12,
     "metadata": {},
     "output_type": "execute_result"
    }
   ],
   "source": [
    "df.pivot_table(index=\"citation_class_label\", columns=\"split\", values=\"unique_id\", aggfunc=len).sort_values(\"train\", ascending=False)"
   ]
  },
  {
   "cell_type": "code",
   "execution_count": 13,
   "metadata": {},
   "outputs": [
    {
     "data": {
      "text/html": [
       "<div>\n",
       "<style scoped>\n",
       "    .dataframe tbody tr th:only-of-type {\n",
       "        vertical-align: middle;\n",
       "    }\n",
       "\n",
       "    .dataframe tbody tr th {\n",
       "        vertical-align: top;\n",
       "    }\n",
       "\n",
       "    .dataframe thead th {\n",
       "        text-align: right;\n",
       "    }\n",
       "</style>\n",
       "<table border=\"1\" class=\"dataframe\">\n",
       "  <thead>\n",
       "    <tr style=\"text-align: right;\">\n",
       "      <th>split</th>\n",
       "      <th>test</th>\n",
       "      <th>train</th>\n",
       "    </tr>\n",
       "    <tr>\n",
       "      <th>citing_author</th>\n",
       "      <th></th>\n",
       "      <th></th>\n",
       "    </tr>\n",
       "  </thead>\n",
       "  <tbody>\n",
       "    <tr>\n",
       "      <th>Geraldine Gray</th>\n",
       "      <td>NaN</td>\n",
       "      <td>120.0</td>\n",
       "    </tr>\n",
       "    <tr>\n",
       "      <th>Fabio Reale</th>\n",
       "      <td>NaN</td>\n",
       "      <td>93.0</td>\n",
       "    </tr>\n",
       "    <tr>\n",
       "      <th>Eric Klinger</th>\n",
       "      <td>NaN</td>\n",
       "      <td>86.0</td>\n",
       "    </tr>\n",
       "    <tr>\n",
       "      <th>Ifigeneia Mavranezouli</th>\n",
       "      <td>NaN</td>\n",
       "      <td>85.0</td>\n",
       "    </tr>\n",
       "    <tr>\n",
       "      <th>Nick Byrd</th>\n",
       "      <td>NaN</td>\n",
       "      <td>84.0</td>\n",
       "    </tr>\n",
       "    <tr>\n",
       "      <th>...</th>\n",
       "      <td>...</td>\n",
       "      <td>...</td>\n",
       "    </tr>\n",
       "    <tr>\n",
       "      <th>Thomas Elmqvist</th>\n",
       "      <td>35.0</td>\n",
       "      <td>NaN</td>\n",
       "    </tr>\n",
       "    <tr>\n",
       "      <th>Thomas Toulias</th>\n",
       "      <td>1.0</td>\n",
       "      <td>NaN</td>\n",
       "    </tr>\n",
       "    <tr>\n",
       "      <th>Timo Partonen</th>\n",
       "      <td>24.0</td>\n",
       "      <td>NaN</td>\n",
       "    </tr>\n",
       "    <tr>\n",
       "      <th>Werner Rodejohann</th>\n",
       "      <td>1.0</td>\n",
       "      <td>NaN</td>\n",
       "    </tr>\n",
       "    <tr>\n",
       "      <th>Youssef Bassil</th>\n",
       "      <td>11.0</td>\n",
       "      <td>NaN</td>\n",
       "    </tr>\n",
       "  </tbody>\n",
       "</table>\n",
       "<p>225 rows × 2 columns</p>\n",
       "</div>"
      ],
      "text/plain": [
       "split                   test  train\n",
       "citing_author                      \n",
       "Geraldine Gray           NaN  120.0\n",
       "Fabio Reale              NaN   93.0\n",
       "Eric Klinger             NaN   86.0\n",
       "Ifigeneia Mavranezouli   NaN   85.0\n",
       "Nick Byrd                NaN   84.0\n",
       "...                      ...    ...\n",
       "Thomas Elmqvist         35.0    NaN\n",
       "Thomas Toulias           1.0    NaN\n",
       "Timo Partonen           24.0    NaN\n",
       "Werner Rodejohann        1.0    NaN\n",
       "Youssef Bassil          11.0    NaN\n",
       "\n",
       "[225 rows x 2 columns]"
      ]
     },
     "execution_count": 13,
     "metadata": {},
     "output_type": "execute_result"
    }
   ],
   "source": [
    "df.pivot_table(index=\"citing_author\", columns=\"split\", values=\"unique_id\", aggfunc=len).sort_values(\"train\", ascending=False)"
   ]
  },
  {
   "cell_type": "code",
   "execution_count": 14,
   "metadata": {},
   "outputs": [
    {
     "data": {
      "text/html": [
       "<div>\n",
       "<style scoped>\n",
       "    .dataframe tbody tr th:only-of-type {\n",
       "        vertical-align: middle;\n",
       "    }\n",
       "\n",
       "    .dataframe tbody tr th {\n",
       "        vertical-align: top;\n",
       "    }\n",
       "\n",
       "    .dataframe thead th {\n",
       "        text-align: right;\n",
       "    }\n",
       "</style>\n",
       "<table border=\"1\" class=\"dataframe\">\n",
       "  <thead>\n",
       "    <tr style=\"text-align: right;\">\n",
       "      <th>split</th>\n",
       "      <th>test</th>\n",
       "      <th>train</th>\n",
       "    </tr>\n",
       "    <tr>\n",
       "      <th>cited_author</th>\n",
       "      <th></th>\n",
       "      <th></th>\n",
       "    </tr>\n",
       "  </thead>\n",
       "  <tbody>\n",
       "    <tr>\n",
       "      <th>Klinger</th>\n",
       "      <td>NaN</td>\n",
       "      <td>10.0</td>\n",
       "    </tr>\n",
       "    <tr>\n",
       "      <th>Anderson</th>\n",
       "      <td>NaN</td>\n",
       "      <td>10.0</td>\n",
       "    </tr>\n",
       "    <tr>\n",
       "      <th>Chen</th>\n",
       "      <td>3.0</td>\n",
       "      <td>9.0</td>\n",
       "    </tr>\n",
       "    <tr>\n",
       "      <th>Wang</th>\n",
       "      <td>4.0</td>\n",
       "      <td>9.0</td>\n",
       "    </tr>\n",
       "    <tr>\n",
       "      <th>Sasakura</th>\n",
       "      <td>NaN</td>\n",
       "      <td>9.0</td>\n",
       "    </tr>\n",
       "    <tr>\n",
       "      <th>...</th>\n",
       "      <td>...</td>\n",
       "      <td>...</td>\n",
       "    </tr>\n",
       "    <tr>\n",
       "      <th>ter Steege</th>\n",
       "      <td>2.0</td>\n",
       "      <td>NaN</td>\n",
       "    </tr>\n",
       "    <tr>\n",
       "      <th>van Deth</th>\n",
       "      <td>1.0</td>\n",
       "      <td>NaN</td>\n",
       "    </tr>\n",
       "    <tr>\n",
       "      <th>van Loon</th>\n",
       "      <td>1.0</td>\n",
       "      <td>NaN</td>\n",
       "    </tr>\n",
       "    <tr>\n",
       "      <th>van den Heuvel</th>\n",
       "      <td>1.0</td>\n",
       "      <td>NaN</td>\n",
       "    </tr>\n",
       "    <tr>\n",
       "      <th>van oosten</th>\n",
       "      <td>1.0</td>\n",
       "      <td>NaN</td>\n",
       "    </tr>\n",
       "  </tbody>\n",
       "</table>\n",
       "<p>2963 rows × 2 columns</p>\n",
       "</div>"
      ],
      "text/plain": [
       "split           test  train\n",
       "cited_author               \n",
       "Klinger          NaN   10.0\n",
       "Anderson         NaN   10.0\n",
       "Chen             3.0    9.0\n",
       "Wang             4.0    9.0\n",
       "Sasakura         NaN    9.0\n",
       "...              ...    ...\n",
       "ter Steege       2.0    NaN\n",
       "van Deth         1.0    NaN\n",
       "van Loon         1.0    NaN\n",
       "van den Heuvel   1.0    NaN\n",
       "van oosten       1.0    NaN\n",
       "\n",
       "[2963 rows x 2 columns]"
      ]
     },
     "execution_count": 14,
     "metadata": {},
     "output_type": "execute_result"
    }
   ],
   "source": [
    "df.pivot_table(index=\"cited_author\", columns=\"split\", values=\"unique_id\", aggfunc=len).sort_values(\"train\", ascending=False)"
   ]
  },
  {
   "cell_type": "code",
   "execution_count": 15,
   "metadata": {},
   "outputs": [
    {
     "data": {
      "text/plain": [
       "93144659      120\n",
       "81800077       93\n",
       "82852800       86\n",
       "54847651       84\n",
       "81068384       74\n",
       "             ... \n",
       "2791771689      1\n",
       "10182392        1\n",
       "1942026013      1\n",
       "2185862         1\n",
       "82162478        1\n",
       "Name: core_id, Length: 227, dtype: int64"
      ]
     },
     "execution_count": 15,
     "metadata": {},
     "output_type": "execute_result"
    }
   ],
   "source": [
    "df.core_id.value_counts()"
   ]
  },
  {
   "cell_type": "code",
   "execution_count": 16,
   "metadata": {},
   "outputs": [],
   "source": [
    "import requests\n",
    "import json\n",
    "import time"
   ]
  },
  {
   "cell_type": "code",
   "execution_count": 17,
   "metadata": {},
   "outputs": [],
   "source": [
    "CORE_REQUEST_URL=\"https://core.ac.uk:443/api-v2/articles/get?metadata=true&fulltext=true&citations=true&similar=false&duplicate=false&urls=false&faithfulMetadata=false&apiKey=gHQKEJ9bMBe7FntNCXqjrASuz0xc5dTU\"\n",
    "def get_paper_data(core_ids, batch_size=10):\n",
    "    core_ids = list(core_ids)\n",
    "    for i in range(0, len(core_ids), batch_size):\n",
    "        batch = core_ids[i:i+batch_size]\n",
    "        resp = requests.post(CORE_REQUEST_URL, json=batch)\n",
    "        batch_resp_json = resp.json()\n",
    "        yield batch_resp_json\n",
    "        print(f\"Found {len(batch_resp_json)} responses. Sleeping for 2 seconds.\")\n",
    "        time.sleep(2)"
   ]
  },
  {
   "cell_type": "code",
   "execution_count": 18,
   "metadata": {},
   "outputs": [
    {
     "name": "stdout",
     "output_type": "stream",
     "text": [
      "File core_data.jsonl does not exists.\n",
      "Fetching https://gist.githubusercontent.com/napsternxg/f514e8ac039998e129ad187956b7eb9f/raw/00e34089890fd158f0867e1b3436257a511d040f/core_data.jsonl.\n",
      "Found 227 records.\n",
      "Found 227 records. Writing to core_data.jsonl\n",
      "CPU times: user 247 ms, sys: 160 ms, total: 407 ms\n",
      "Wall time: 1.55 s\n"
     ]
    }
   ],
   "source": [
    "%%time\n",
    "CORE_DATA_PATH=Path(\"./core_data.jsonl\")\n",
    "CORE_DATA_URL=\"https://gist.githubusercontent.com/napsternxg/f514e8ac039998e129ad187956b7eb9f/raw/00e34089890fd158f0867e1b3436257a511d040f/core_data.jsonl\"\n",
    "COLLECT_CORE_DATA=False\n",
    "if not CORE_DATA_PATH.exists():\n",
    "    print(f\"File {CORE_DATA_PATH} does not exists.\")\n",
    "    if COLLECT_CORE_DATA:\n",
    "        print(f\"Collecting data via the CORE API\")\n",
    "        core_data = sum(get_paper_data(df.core_id.unique().tolist(), batch_size=10), [])\n",
    "    else:\n",
    "        print(f\"Fetching {CORE_DATA_URL}.\")\n",
    "        resp = requests.get(CORE_DATA_URL).text\n",
    "        core_data = []\n",
    "        for line in resp.splitlines():\n",
    "            d = json.loads(line)\n",
    "            core_data.append(d)\n",
    "        print(f\"Found {len(core_data)} records.\")\n",
    "    print(f\"Found {len(core_data)} records. Writing to {CORE_DATA_PATH}\")\n",
    "    with open(CORE_DATA_PATH, \"w+\") as fp:\n",
    "        for d in core_data:\n",
    "            print(json.dumps(d), file=fp)\n",
    "else:\n",
    "    print(f\"File {CORE_DATA_PATH} exists. Loading.\")\n",
    "    with open(CORE_DATA_PATH) as fp:\n",
    "        core_data = []\n",
    "        for line in fp:\n",
    "            d = json.loads(line)\n",
    "            core_data.append(d)\n",
    "    print(f\"Found {len(core_data)} records.\")"
   ]
  },
  {
   "cell_type": "code",
   "execution_count": 19,
   "metadata": {},
   "outputs": [
    {
     "data": {
      "text/plain": [
       "2018"
      ]
     },
     "execution_count": 19,
     "metadata": {},
     "output_type": "execute_result"
    }
   ],
   "source": [
    "core_data[0][\"data\"][\"year\"]"
   ]
  },
  {
   "cell_type": "code",
   "execution_count": 20,
   "metadata": {},
   "outputs": [
    {
     "data": {
      "text/plain": [
       "176"
      ]
     },
     "execution_count": 20,
     "metadata": {},
     "output_type": "execute_result"
    }
   ],
   "source": [
    "found_keys = [\n",
    "    int(d[\"data\"][\"id\"])\n",
    "    for d in core_data\n",
    "    if d[\"status\"] == \"OK\"\n",
    "]\n",
    "len(found_keys)"
   ]
  },
  {
   "cell_type": "code",
   "execution_count": 21,
   "metadata": {},
   "outputs": [
    {
     "data": {
      "text/plain": [
       "51"
      ]
     },
     "execution_count": 21,
     "metadata": {},
     "output_type": "execute_result"
    }
   ],
   "source": [
    "not_found_ids = [\n",
    "    k\n",
    "    for k in df.core_id.unique()\n",
    "    if k not in set(found_keys)\n",
    "]\n",
    "len(not_found_ids)"
   ]
  },
  {
   "cell_type": "code",
   "execution_count": 22,
   "metadata": {},
   "outputs": [
    {
     "data": {
      "text/html": [
       "<div>\n",
       "<style scoped>\n",
       "    .dataframe tbody tr th:only-of-type {\n",
       "        vertical-align: middle;\n",
       "    }\n",
       "\n",
       "    .dataframe tbody tr th {\n",
       "        vertical-align: top;\n",
       "    }\n",
       "\n",
       "    .dataframe thead th {\n",
       "        text-align: right;\n",
       "    }\n",
       "</style>\n",
       "<table border=\"1\" class=\"dataframe\">\n",
       "  <thead>\n",
       "    <tr style=\"text-align: right;\">\n",
       "      <th></th>\n",
       "      <th>unique_id</th>\n",
       "      <th>core_id</th>\n",
       "      <th>citing_title</th>\n",
       "      <th>citing_author</th>\n",
       "      <th>cited_title</th>\n",
       "      <th>cited_author</th>\n",
       "      <th>citation_context</th>\n",
       "      <th>citation_influence_label</th>\n",
       "      <th>citation_class_label</th>\n",
       "      <th>split</th>\n",
       "      <th>found_core_data</th>\n",
       "    </tr>\n",
       "  </thead>\n",
       "  <tbody>\n",
       "    <tr>\n",
       "      <th>0</th>\n",
       "      <td>CC1</td>\n",
       "      <td>158977742</td>\n",
       "      <td>Ontology-Based Recommendation of Editorial Pro...</td>\n",
       "      <td>Thiviyan Thanapalasingam</td>\n",
       "      <td>Web search personalization with ontological us...</td>\n",
       "      <td>Sieg</td>\n",
       "      <td>They usually generate user models that describ...</td>\n",
       "      <td>0.0</td>\n",
       "      <td>5.0</td>\n",
       "      <td>train</td>\n",
       "      <td>True</td>\n",
       "    </tr>\n",
       "    <tr>\n",
       "      <th>1</th>\n",
       "      <td>CC2</td>\n",
       "      <td>158977742</td>\n",
       "      <td>Ontology-Based Recommendation of Editorial Pro...</td>\n",
       "      <td>Thiviyan Thanapalasingam</td>\n",
       "      <td>Exploring Scholarly Data with Rexplore</td>\n",
       "      <td>Osborne</td>\n",
       "      <td>The Computer Science Ontology (CSO)[3]is a lar...</td>\n",
       "      <td>0.0</td>\n",
       "      <td>0.0</td>\n",
       "      <td>train</td>\n",
       "      <td>True</td>\n",
       "    </tr>\n",
       "    <tr>\n",
       "      <th>2</th>\n",
       "      <td>CC3</td>\n",
       "      <td>158977742</td>\n",
       "      <td>Ontology-Based Recommendation of Editorial Pro...</td>\n",
       "      <td>Thiviyan Thanapalasingam</td>\n",
       "      <td>Klink-2: Integrating Multiple Web Sources to G...</td>\n",
       "      <td>Osborne</td>\n",
       "      <td>In order to do so, we characterized all SN pub...</td>\n",
       "      <td>0.0</td>\n",
       "      <td>0.0</td>\n",
       "      <td>train</td>\n",
       "      <td>True</td>\n",
       "    </tr>\n",
       "    <tr>\n",
       "      <th>3</th>\n",
       "      <td>CC4</td>\n",
       "      <td>158977742</td>\n",
       "      <td>Ontology-Based Recommendation of Editorial Pro...</td>\n",
       "      <td>Thiviyan Thanapalasingam</td>\n",
       "      <td>Forecasting the Spreading of Technologies in R...</td>\n",
       "      <td>Osborne</td>\n",
       "      <td>This API supports a number of applications, in...</td>\n",
       "      <td>1.0</td>\n",
       "      <td>0.0</td>\n",
       "      <td>train</td>\n",
       "      <td>True</td>\n",
       "    </tr>\n",
       "    <tr>\n",
       "      <th>4</th>\n",
       "      <td>CC5</td>\n",
       "      <td>158977742</td>\n",
       "      <td>Ontology-Based Recommendation of Editorial Pro...</td>\n",
       "      <td>Thiviyan Thanapalasingam</td>\n",
       "      <td>Supporting Springer Nature Editors by means of...</td>\n",
       "      <td>Osborne</td>\n",
       "      <td>It works according to three main steps:1) It r...</td>\n",
       "      <td>1.0</td>\n",
       "      <td>5.0</td>\n",
       "      <td>train</td>\n",
       "      <td>True</td>\n",
       "    </tr>\n",
       "  </tbody>\n",
       "</table>\n",
       "</div>"
      ],
      "text/plain": [
       "  unique_id    core_id                                       citing_title  \\\n",
       "0       CC1  158977742  Ontology-Based Recommendation of Editorial Pro...   \n",
       "1       CC2  158977742  Ontology-Based Recommendation of Editorial Pro...   \n",
       "2       CC3  158977742  Ontology-Based Recommendation of Editorial Pro...   \n",
       "3       CC4  158977742  Ontology-Based Recommendation of Editorial Pro...   \n",
       "4       CC5  158977742  Ontology-Based Recommendation of Editorial Pro...   \n",
       "\n",
       "              citing_author  \\\n",
       "0  Thiviyan Thanapalasingam   \n",
       "1  Thiviyan Thanapalasingam   \n",
       "2  Thiviyan Thanapalasingam   \n",
       "3  Thiviyan Thanapalasingam   \n",
       "4  Thiviyan Thanapalasingam   \n",
       "\n",
       "                                         cited_title cited_author  \\\n",
       "0  Web search personalization with ontological us...         Sieg   \n",
       "1             Exploring Scholarly Data with Rexplore      Osborne   \n",
       "2  Klink-2: Integrating Multiple Web Sources to G...      Osborne   \n",
       "3  Forecasting the Spreading of Technologies in R...      Osborne   \n",
       "4  Supporting Springer Nature Editors by means of...      Osborne   \n",
       "\n",
       "                                    citation_context  \\\n",
       "0  They usually generate user models that describ...   \n",
       "1  The Computer Science Ontology (CSO)[3]is a lar...   \n",
       "2  In order to do so, we characterized all SN pub...   \n",
       "3  This API supports a number of applications, in...   \n",
       "4  It works according to three main steps:1) It r...   \n",
       "\n",
       "   citation_influence_label  citation_class_label  split  found_core_data  \n",
       "0                       0.0                   5.0  train             True  \n",
       "1                       0.0                   0.0  train             True  \n",
       "2                       0.0                   0.0  train             True  \n",
       "3                       1.0                   0.0  train             True  \n",
       "4                       1.0                   5.0  train             True  "
      ]
     },
     "execution_count": 22,
     "metadata": {},
     "output_type": "execute_result"
    }
   ],
   "source": [
    "df.assign(\n",
    "    found_core_data=lambda x: ~x.core_id.isin(set(not_found_ids))\n",
    ").head()"
   ]
  },
  {
   "cell_type": "code",
   "execution_count": 23,
   "metadata": {},
   "outputs": [
    {
     "data": {
      "text/html": [
       "<div>\n",
       "<style scoped>\n",
       "    .dataframe tbody tr th:only-of-type {\n",
       "        vertical-align: middle;\n",
       "    }\n",
       "\n",
       "    .dataframe tbody tr th {\n",
       "        vertical-align: top;\n",
       "    }\n",
       "\n",
       "    .dataframe thead th {\n",
       "        text-align: right;\n",
       "    }\n",
       "</style>\n",
       "<table border=\"1\" class=\"dataframe\">\n",
       "  <thead>\n",
       "    <tr style=\"text-align: right;\">\n",
       "      <th></th>\n",
       "      <th>id</th>\n",
       "      <th>authors</th>\n",
       "      <th>citations</th>\n",
       "      <th>contributors</th>\n",
       "      <th>datePublished</th>\n",
       "      <th>description</th>\n",
       "      <th>fullText</th>\n",
       "      <th>identifiers</th>\n",
       "      <th>publisher</th>\n",
       "      <th>relations</th>\n",
       "      <th>...</th>\n",
       "      <th>topics</th>\n",
       "      <th>types</th>\n",
       "      <th>year</th>\n",
       "      <th>doi</th>\n",
       "      <th>oai</th>\n",
       "      <th>downloadUrl</th>\n",
       "      <th>fulltextIdentifier</th>\n",
       "      <th>language</th>\n",
       "      <th>journals</th>\n",
       "      <th>core_id</th>\n",
       "    </tr>\n",
       "  </thead>\n",
       "  <tbody>\n",
       "    <tr>\n",
       "      <th>0</th>\n",
       "      <td>158977742</td>\n",
       "      <td>[Thanapalasingam, Thiviyan, Osborne, Francesco...</td>\n",
       "      <td>[]</td>\n",
       "      <td>[]</td>\n",
       "      <td>2018-10-28</td>\n",
       "      <td>Major academic publishers need to be able to a...</td>\n",
       "      <td>Ontology-Based Recommendation of Editorial Pro...</td>\n",
       "      <td>[oai:oro.open.ac.uk:55516, 10.1007/978-3-030-0...</td>\n",
       "      <td>Springer</td>\n",
       "      <td>[http://iswc2018.semanticweb.org/]</td>\n",
       "      <td>...</td>\n",
       "      <td>[]</td>\n",
       "      <td>[]</td>\n",
       "      <td>2018</td>\n",
       "      <td>10.1007/978-3-030-00668-6_21</td>\n",
       "      <td>oai:oro.open.ac.uk:55516</td>\n",
       "      <td></td>\n",
       "      <td>NaN</td>\n",
       "      <td>NaN</td>\n",
       "      <td>NaN</td>\n",
       "      <td>158977742</td>\n",
       "    </tr>\n",
       "    <tr>\n",
       "      <th>1</th>\n",
       "      <td>211273841</td>\n",
       "      <td>[Myers, Christina, Piccolo, Lara, Collins, Tre...</td>\n",
       "      <td>[]</td>\n",
       "      <td>[]</td>\n",
       "      <td>2018</td>\n",
       "      <td>This paper presents a participatory methodolog...</td>\n",
       "      <td>Open Research Online\\nThe Open University’s re...</td>\n",
       "      <td>[oai:oro.open.ac.uk:62141, 10.14236/ewic/HCI20...</td>\n",
       "      <td>NaN</td>\n",
       "      <td>[]</td>\n",
       "      <td>...</td>\n",
       "      <td>[]</td>\n",
       "      <td>[]</td>\n",
       "      <td>2018</td>\n",
       "      <td>10.14236/ewic/HCI2018.164</td>\n",
       "      <td>oai:oro.open.ac.uk:62141</td>\n",
       "      <td>https://core.ac.uk/download/pdf/211273841.pdf</td>\n",
       "      <td>https://core.ac.uk/download/pdf/211273841.pdf</td>\n",
       "      <td>NaN</td>\n",
       "      <td>NaN</td>\n",
       "      <td>211273841</td>\n",
       "    </tr>\n",
       "    <tr>\n",
       "      <th>2</th>\n",
       "      <td>159766439</td>\n",
       "      <td>[Pride, David, Knoth, Petr]</td>\n",
       "      <td>[]</td>\n",
       "      <td>[]</td>\n",
       "      <td>2018-09-30</td>\n",
       "      <td>Most Performance-based Research Funding System...</td>\n",
       "      <td>Open Research Online\\nThe Open University’s re...</td>\n",
       "      <td>[oai:oro.open.ac.uk:55743, 10.1007/978-3-030-0...</td>\n",
       "      <td>NaN</td>\n",
       "      <td>[]</td>\n",
       "      <td>...</td>\n",
       "      <td>[]</td>\n",
       "      <td>[]</td>\n",
       "      <td>2018</td>\n",
       "      <td>10.1007/978-3-030-00066-0_17</td>\n",
       "      <td>oai:oro.open.ac.uk:55743</td>\n",
       "      <td>https://core.ac.uk/download/pdf/159766439.pdf</td>\n",
       "      <td>https://core.ac.uk/download/pdf/159766439.pdf</td>\n",
       "      <td>NaN</td>\n",
       "      <td>NaN</td>\n",
       "      <td>159766439</td>\n",
       "    </tr>\n",
       "    <tr>\n",
       "      <th>3</th>\n",
       "      <td>42702124</td>\n",
       "      <td>[Escobar, Vanessa M., Delgado-Arias, Sabrina, ...</td>\n",
       "      <td>[]</td>\n",
       "      <td>[]</td>\n",
       "      <td>January 2015</td>\n",
       "      <td>The North American Carbon Program (NACP) was f...</td>\n",
       "      <td>S\\nP\\nM\\nV\\na\\nb\\nc\\na\\nK\\nN\\nC\\nK\\nK\\nC\\nC\\n1...</td>\n",
       "      <td>[oai:casi.ntrs.nasa.gov:20150023370, None]</td>\n",
       "      <td>NaN</td>\n",
       "      <td>[]</td>\n",
       "      <td>...</td>\n",
       "      <td>[Environment Pollution]</td>\n",
       "      <td>[]</td>\n",
       "      <td>2015</td>\n",
       "      <td>NaN</td>\n",
       "      <td>oai:casi.ntrs.nasa.gov:20150023370</td>\n",
       "      <td>https://core.ac.uk/download/pdf/42702124.pdf</td>\n",
       "      <td>https://core.ac.uk/download/pdf/42702124.pdf</td>\n",
       "      <td>NaN</td>\n",
       "      <td>NaN</td>\n",
       "      <td>42702124</td>\n",
       "    </tr>\n",
       "    <tr>\n",
       "      <th>4</th>\n",
       "      <td>81765890</td>\n",
       "      <td>[Henriette Golcher, Thomas B. Brunner, Helmut ...</td>\n",
       "      <td>[]</td>\n",
       "      <td>[]</td>\n",
       "      <td>2014</td>\n",
       "      <td>NaN</td>\n",
       "      <td>1 3\\nOriginal article\\nReceived: 11 January 20...</td>\n",
       "      <td>[10.1007/s00066-014-0737-7]</td>\n",
       "      <td>Springer Nature</td>\n",
       "      <td>[http://dx.doi.org/10.1007/s00066-014-0737-7]</td>\n",
       "      <td>...</td>\n",
       "      <td>[]</td>\n",
       "      <td>[]</td>\n",
       "      <td>2014</td>\n",
       "      <td>10.1007/s00066-014-0737-7</td>\n",
       "      <td>NaN</td>\n",
       "      <td>https://core.ac.uk/download/pdf/81765890.pdf</td>\n",
       "      <td>https://core.ac.uk/download/pdf/81765890.pdf</td>\n",
       "      <td>NaN</td>\n",
       "      <td>NaN</td>\n",
       "      <td>81765890</td>\n",
       "    </tr>\n",
       "  </tbody>\n",
       "</table>\n",
       "<p>5 rows × 24 columns</p>\n",
       "</div>"
      ],
      "text/plain": [
       "          id                                            authors citations  \\\n",
       "0  158977742  [Thanapalasingam, Thiviyan, Osborne, Francesco...        []   \n",
       "1  211273841  [Myers, Christina, Piccolo, Lara, Collins, Tre...        []   \n",
       "2  159766439                        [Pride, David, Knoth, Petr]        []   \n",
       "3   42702124  [Escobar, Vanessa M., Delgado-Arias, Sabrina, ...        []   \n",
       "4   81765890  [Henriette Golcher, Thomas B. Brunner, Helmut ...        []   \n",
       "\n",
       "  contributors datePublished  \\\n",
       "0           []    2018-10-28   \n",
       "1           []          2018   \n",
       "2           []    2018-09-30   \n",
       "3           []  January 2015   \n",
       "4           []          2014   \n",
       "\n",
       "                                         description  \\\n",
       "0  Major academic publishers need to be able to a...   \n",
       "1  This paper presents a participatory methodolog...   \n",
       "2  Most Performance-based Research Funding System...   \n",
       "3  The North American Carbon Program (NACP) was f...   \n",
       "4                                                NaN   \n",
       "\n",
       "                                            fullText  \\\n",
       "0  Ontology-Based Recommendation of Editorial Pro...   \n",
       "1  Open Research Online\\nThe Open University’s re...   \n",
       "2  Open Research Online\\nThe Open University’s re...   \n",
       "3  S\\nP\\nM\\nV\\na\\nb\\nc\\na\\nK\\nN\\nC\\nK\\nK\\nC\\nC\\n1...   \n",
       "4  1 3\\nOriginal article\\nReceived: 11 January 20...   \n",
       "\n",
       "                                         identifiers        publisher  \\\n",
       "0  [oai:oro.open.ac.uk:55516, 10.1007/978-3-030-0...         Springer   \n",
       "1  [oai:oro.open.ac.uk:62141, 10.14236/ewic/HCI20...              NaN   \n",
       "2  [oai:oro.open.ac.uk:55743, 10.1007/978-3-030-0...              NaN   \n",
       "3         [oai:casi.ntrs.nasa.gov:20150023370, None]              NaN   \n",
       "4                        [10.1007/s00066-014-0737-7]  Springer Nature   \n",
       "\n",
       "                                       relations  ...  \\\n",
       "0             [http://iswc2018.semanticweb.org/]  ...   \n",
       "1                                             []  ...   \n",
       "2                                             []  ...   \n",
       "3                                             []  ...   \n",
       "4  [http://dx.doi.org/10.1007/s00066-014-0737-7]  ...   \n",
       "\n",
       "                    topics types  year                           doi  \\\n",
       "0                       []    []  2018  10.1007/978-3-030-00668-6_21   \n",
       "1                       []    []  2018     10.14236/ewic/HCI2018.164   \n",
       "2                       []    []  2018  10.1007/978-3-030-00066-0_17   \n",
       "3  [Environment Pollution]    []  2015                           NaN   \n",
       "4                       []    []  2014     10.1007/s00066-014-0737-7   \n",
       "\n",
       "                                  oai  \\\n",
       "0            oai:oro.open.ac.uk:55516   \n",
       "1            oai:oro.open.ac.uk:62141   \n",
       "2            oai:oro.open.ac.uk:55743   \n",
       "3  oai:casi.ntrs.nasa.gov:20150023370   \n",
       "4                                 NaN   \n",
       "\n",
       "                                     downloadUrl  \\\n",
       "0                                                  \n",
       "1  https://core.ac.uk/download/pdf/211273841.pdf   \n",
       "2  https://core.ac.uk/download/pdf/159766439.pdf   \n",
       "3   https://core.ac.uk/download/pdf/42702124.pdf   \n",
       "4   https://core.ac.uk/download/pdf/81765890.pdf   \n",
       "\n",
       "                              fulltextIdentifier language journals    core_id  \n",
       "0                                            NaN      NaN      NaN  158977742  \n",
       "1  https://core.ac.uk/download/pdf/211273841.pdf      NaN      NaN  211273841  \n",
       "2  https://core.ac.uk/download/pdf/159766439.pdf      NaN      NaN  159766439  \n",
       "3   https://core.ac.uk/download/pdf/42702124.pdf      NaN      NaN   42702124  \n",
       "4   https://core.ac.uk/download/pdf/81765890.pdf      NaN      NaN   81765890  \n",
       "\n",
       "[5 rows x 24 columns]"
      ]
     },
     "execution_count": 23,
     "metadata": {},
     "output_type": "execute_result"
    }
   ],
   "source": [
    "df_found = pd.DataFrame([\n",
    "    d[\"data\"]\n",
    "    for d in core_data\n",
    "    if d[\"status\"] == \"OK\"\n",
    "]).assign(core_id=lambda x: x[\"id\"].astype(int))\n",
    "df_found.head()"
   ]
  },
  {
   "cell_type": "code",
   "execution_count": 24,
   "metadata": {},
   "outputs": [
    {
     "data": {
      "text/plain": [
       "(14,)"
      ]
     },
     "execution_count": 24,
     "metadata": {},
     "output_type": "execute_result"
    }
   ],
   "source": [
    "df_found[df_found.citations.apply(lambda x: len(x) != 0)].citations.shape"
   ]
  },
  {
   "cell_type": "code",
   "execution_count": 25,
   "metadata": {},
   "outputs": [
    {
     "data": {
      "text/plain": [
       "(76,)"
      ]
     },
     "execution_count": 25,
     "metadata": {},
     "output_type": "execute_result"
    }
   ],
   "source": [
    "df_found[df_found.topics.apply(lambda x: len(x) != 0)].topics.shape"
   ]
  },
  {
   "cell_type": "code",
   "execution_count": 26,
   "metadata": {},
   "outputs": [
    {
     "data": {
      "text/plain": [
       "array(['Major academic publishers need to be able to analyse their vast catalogue of products and select the best items to be marketed in scientific venues. This is a complex exercise that requires characterising with a high precision the topics of thousands of books and matching them with the interests of the relevant communities. In Springer Nature, this task has been traditionally handled manually by publishing editors. However, the rapid growth in the number of scientific publications and the dynamic nature of the Computer Science landscape has made this solution increasingly inefficient. We have addressed this issue by creating Smart Book Recommender (SBR), an ontology-based recommender system developed by The Open University (OU) in collaboration with Springer Nature, which supports their Computer Science editorial team in selecting the products to market at specific venues. SBR recommends books, journals, and conference proceedings relevant to a conference by taking advantage of a semantically enhanced representation of about 27K editorial products. This is based on the Computer Science Ontology, a very large-scale, automatically generated taxonomy of research areas. SBR also allows users to investigate why a certain publication was suggested by the system. It does so by means of an interactive graph view that displays the topic taxonomy of the recommended editorial product and compares it with the topic-centric characterization of the input conference. An evaluation carried out with seven Springer Nature editors and seven OU researchers has confirmed the effectiveness of the solution',\n",
       "       'This paper presents a participatory methodology to design cards on social issues with the purpose to democratise knowledge among co-designers on the learning content of educational games. Situated on the topic of everyday sexism, the methodology has been developed through an iterative process involving two collaborative workshops, two iterations of card design and a feedback survey. Extracting findings from the workshops and the feedback gathered on the co- designed cards, this paper presents insights that could be used to inform similar studies using cards to inspire and foster reflection on social issues',\n",
       "       'Most Performance-based Research Funding Systems (PRFS) draw on peer review and bibliometric indicators, two different method- ologies which are sometimes combined. A common argument against the use of indicators in such research evaluation exercises is their low corre- lation at the article level with peer review judgments. In this study, we analyse 191,000 papers from 154 higher education institutes which were peer reviewed in a national research evaluation exercise. We combine these data with 6.95 million citations to the original papers. We show that when citation-based indicators are applied at the institutional or departmental level, rather than at the level of individual papers, surpris- ingly large correlations with peer review judgments can be observed, up to r <= 0.802, n = 37, p < 0.001 for some disciplines. In our evaluation of ranking prediction performance based on citation data, we show we can reduce the mean rank prediction error by 25% compared to previous work. This suggests that citation-based indicators are sufficiently aligned with peer review results at the institutional level to be used to lessen the overall burden of peer review on national evaluation exercises leading to considerable cost savings',\n",
       "       \"The North American Carbon Program (NACP) was formed to further the scientific understanding of sources, sinks, and stocks of carbon in Earth's environment. Carbon cycle science integrates multidisciplinary research, providing decision-support information for managing climate and carbon-related change across multiple sectors of society. This investigation uses the conceptual framework of com-munities of practice (CoP) to explore the role that the NACP has played in connecting researchers into a carbon cycle knowledge network, and in enabling them to conduct physical science that includes ideas from social science. A CoP describes the communities formed when people consistently engage in shared communication and activities toward a common passion or learning goal. We apply the CoP model by using keyword analysis of abstracts from scientific publications to analyze the research outputs of the NACP in terms of its knowledge domain. We also construct a co-authorship network from the publications of core NACP members, describe the structure and social pathways within the community. Results of the content analysis indicate that the NACP community of practice has substantially expanded its research on human and social impacts on the carbon cycle, contributing to a better understanding of how human and physical processes interact with one another. Results of the co-authorship social network analysis demonstrate that the NACP has formed a tightly connected community with many social pathways through which knowledge may flow, and that it has also expanded its network of institutions involved in carbon cycle research over the past seven years\",\n",
       "       'Background\\r\\n\\r\\nUnassisted cessation – quitting without pharmacological or professional support – is an enduring phenomenon. Unassisted cessation persists even in nations advanced in tobacco control where cessation assistance such as nicotine replacement therapy, the stop-smoking medications bupropion and varenicline, and behavioural assistance are readily available. We review the qualitative literature on the views and experiences of smokers who quit unassisted.\\r\\nMethod\\r\\n\\r\\nWe systematically searched for peer-reviewed qualitative studies reporting on smokers who quit unassisted. We identified 11 studies and used a technique based on Thomas and Harden’s method of thematic synthesis to discern key themes relating to unassisted cessation, and to then group related themes into overarching concepts.\\r\\nFindings\\r\\n\\r\\nThe three concepts identified as important to smokers who quit unassisted were: motivation, willpower and commitment. Motivation, although widely reported, had only one clear meaning, that is ‘the reason for quitting’. Willpower was perceived to be a method of quitting, a strategy to counteract cravings or urges, or a personal quality or trait fundamental to quitting success. Commitment was equated to seriousness or resoluteness, was perceived as key to successful quitting, and was often used to distinguish earlier failed quit attempts from the final successful quit attempt. Commitment had different dimensions. It appeared that commitment could be tentative or provisional, and also cumulative, that is, commitment could be built upon as the quit attempt progressed.\\r\\nConclusion\\r\\n\\r\\nA better understanding of what motivation, willpower and commitment mean from the smoker’s perspective may provide new insights and direction for smoking cessation research and practice.Funding was provided by the National Health and Medical Research Council (NHMRC), Australia, grant number 1024459. SMC was supported by NHMRC Career Development Fellowship 1032963'],\n",
       "      dtype=object)"
      ]
     },
     "execution_count": 26,
     "metadata": {},
     "output_type": "execute_result"
    }
   ],
   "source": [
    "df_found[~df_found.description.isnull()].description.head().values"
   ]
  },
  {
   "cell_type": "code",
   "execution_count": 27,
   "metadata": {},
   "outputs": [
    {
     "data": {
      "text/plain": [
       "2015    41\n",
       "2014    33\n",
       "2013    26\n",
       "2012    24\n",
       "2011    17\n",
       "2010    13\n",
       "2009     9\n",
       "2018     4\n",
       "2016     4\n",
       "2008     4\n",
       "2005     1\n",
       "Name: year, dtype: int64"
      ]
     },
     "execution_count": 27,
     "metadata": {},
     "output_type": "execute_result"
    }
   ],
   "source": [
    "df_found.year.value_counts()"
   ]
  },
  {
   "cell_type": "code",
   "execution_count": 28,
   "metadata": {},
   "outputs": [
    {
     "data": {
      "text/plain": [
       "Index(['id', 'authors', 'citations', 'contributors', 'datePublished',\n",
       "       'description', 'fullText', 'identifiers', 'publisher', 'relations',\n",
       "       'repositories', 'repositoryDocument', 'subjects', 'title', 'topics',\n",
       "       'types', 'year', 'doi', 'oai', 'downloadUrl', 'fulltextIdentifier',\n",
       "       'language', 'journals', 'core_id'],\n",
       "      dtype='object')"
      ]
     },
     "execution_count": 28,
     "metadata": {},
     "output_type": "execute_result"
    }
   ],
   "source": [
    "df_found.columns"
   ]
  },
  {
   "cell_type": "code",
   "execution_count": 29,
   "metadata": {},
   "outputs": [],
   "source": [
    "import numpy as np\n",
    "from sklearn.compose import ColumnTransformer\n",
    "from sklearn.feature_extraction.text import TfidfVectorizer"
   ]
  },
  {
   "cell_type": "code",
   "execution_count": 30,
   "metadata": {},
   "outputs": [
    {
     "data": {
      "text/plain": [
       "(4000, 23045)"
      ]
     },
     "execution_count": 30,
     "metadata": {},
     "output_type": "execute_result"
    }
   ],
   "source": [
    "ct = ColumnTransformer([\n",
    "    (\"citing_tfidf\", TfidfVectorizer(), \"citing_title\"),\n",
    "    (\"cited_tfidf\", TfidfVectorizer(), \"cited_title\"),\n",
    "    (\"citation_context_tfidf\", TfidfVectorizer(),\"citation_context\"),\n",
    "])\n",
    "ct.fit(df)\n",
    "df_features = ct.transform(df)\n",
    "df_features.shape"
   ]
  },
  {
   "cell_type": "code",
   "execution_count": 31,
   "metadata": {},
   "outputs": [
    {
     "data": {
      "text/plain": [
       "<4000x23045 sparse matrix of type '<class 'numpy.float64'>'\n",
       "\twith 204727 stored elements in Compressed Sparse Row format>"
      ]
     },
     "execution_count": 31,
     "metadata": {},
     "output_type": "execute_result"
    }
   ],
   "source": [
    "df_features"
   ]
  },
  {
   "cell_type": "code",
   "execution_count": 32,
   "metadata": {},
   "outputs": [
    {
     "data": {
      "text/plain": [
       "<3x23045 sparse matrix of type '<class 'numpy.float64'>'\n",
       "\twith 93 stored elements in Compressed Sparse Row format>"
      ]
     },
     "execution_count": 32,
     "metadata": {},
     "output_type": "execute_result"
    }
   ],
   "source": [
    "df_features[[0, 1, 5]]"
   ]
  },
  {
   "cell_type": "code",
   "execution_count": 33,
   "metadata": {},
   "outputs": [],
   "source": [
    "TASKS={\n",
    "    \"purpose\": \"citation_class_label\",\n",
    "    \"influence\": \"citation_influence_label\"\n",
    "}\n",
    "\n",
    "def generate_data(df, label, split=\"train\"):\n",
    "    split_idx = df[(df.split == split)].index.tolist()\n",
    "    X = df_features[split_idx]\n",
    "    y = df.iloc[split_idx][label]\n",
    "    print(f\"{split}: X={X.shape}, y={y.shape}\")\n",
    "    return X, y, split_idx\n",
    "\n",
    "def submission_pipeline(model, df, df_features, task, model_key=None, to_dense=False):\n",
    "    label = TASKS[task]\n",
    "    X_train, y_train, train_idx = generate_data(df, label, split=\"train\")\n",
    "    X_test, y_test, test_idx = generate_data(df, label, split=\"test\")\n",
    "    print(f\"Training model\")\n",
    "    if to_dense:\n",
    "        X_train = X_train.toarray()\n",
    "        X_test = X_test.toarray()\n",
    "    model.fit(X_train, y_train.astype(int))\n",
    "    y_test = model.predict(X_test)\n",
    "    print(\"Output label dist\")\n",
    "    print(pd.Series(y_test).value_counts())\n",
    "    submission_file=f\"{model_key}_{task}_submission.csv\"\n",
    "    print(f\"Writing submission file: {submission_file}\")\n",
    "    df.iloc[test_idx][[\"unique_id\"]].assign(**{label: y_test}).to_csv(submission_file, index=False)\n",
    "    return model"
   ]
  },
  {
   "cell_type": "markdown",
   "metadata": {},
   "source": [
    "# Gradient Boosting Classifier"
   ]
  },
  {
   "cell_type": "code",
   "execution_count": 34,
   "metadata": {},
   "outputs": [],
   "source": [
    "from sklearn.ensemble import GradientBoostingClassifier"
   ]
  },
  {
   "cell_type": "code",
   "execution_count": 35,
   "metadata": {},
   "outputs": [
    {
     "name": "stdout",
     "output_type": "stream",
     "text": [
      "train: X=(3000, 23045), y=(3000,)\n",
      "test: X=(1000, 23045), y=(1000,)\n",
      "Training model\n",
      "Output label dist\n",
      "0    936\n",
      "5     24\n",
      "1     18\n",
      "4     11\n",
      "3      7\n",
      "2      4\n",
      "dtype: int64\n",
      "Writing submission file: gbt_purpose_submission.csv\n",
      "train: X=(3000, 23045), y=(3000,)\n",
      "test: X=(1000, 23045), y=(1000,)\n",
      "Training model\n",
      "Output label dist\n",
      "1    539\n",
      "0    461\n",
      "dtype: int64\n",
      "Writing submission file: gbt_influence_submission.csv\n"
     ]
    }
   ],
   "source": [
    "for task in TASKS:\n",
    "    model = GradientBoostingClassifier()\n",
    "    submission_pipeline(model, df, df_features, task, model_key=\"gbt\")"
   ]
  },
  {
   "cell_type": "markdown",
   "metadata": {},
   "source": [
    "# Random Forest"
   ]
  },
  {
   "cell_type": "code",
   "execution_count": 36,
   "metadata": {},
   "outputs": [],
   "source": [
    "from sklearn.ensemble import RandomForestClassifier"
   ]
  },
  {
   "cell_type": "code",
   "execution_count": 37,
   "metadata": {},
   "outputs": [
    {
     "name": "stdout",
     "output_type": "stream",
     "text": [
      "train: X=(3000, 23045), y=(3000,)\n",
      "test: X=(1000, 23045), y=(1000,)\n",
      "Training model\n",
      "Output label dist\n",
      "0    999\n",
      "5      1\n",
      "dtype: int64\n",
      "Writing submission file: rf_purpose_submission.csv\n",
      "train: X=(3000, 23045), y=(3000,)\n",
      "test: X=(1000, 23045), y=(1000,)\n",
      "Training model\n",
      "Output label dist\n",
      "1    501\n",
      "0    499\n",
      "dtype: int64\n",
      "Writing submission file: rf_influence_submission.csv\n"
     ]
    }
   ],
   "source": [
    "for task in TASKS:\n",
    "    model = RandomForestClassifier(n_jobs=-1)\n",
    "    submission_pipeline(model, df, df_features, task, model_key=\"rf\")"
   ]
  },
  {
   "cell_type": "markdown",
   "metadata": {},
   "source": [
    "# Multi Layer Neural Network"
   ]
  },
  {
   "cell_type": "code",
   "execution_count": 38,
   "metadata": {},
   "outputs": [
    {
     "data": {
      "text/plain": [
       "'0.23.1'"
      ]
     },
     "execution_count": 38,
     "metadata": {},
     "output_type": "execute_result"
    }
   ],
   "source": [
    "import sklearn\n",
    "sklearn.__version__"
   ]
  },
  {
   "cell_type": "code",
   "execution_count": 39,
   "metadata": {},
   "outputs": [],
   "source": [
    "from sklearn.neural_network import MLPClassifier"
   ]
  },
  {
   "cell_type": "code",
   "execution_count": 40,
   "metadata": {},
   "outputs": [
    {
     "name": "stdout",
     "output_type": "stream",
     "text": [
      "train: X=(3000, 23045), y=(3000,)\n",
      "test: X=(1000, 23045), y=(1000,)\n",
      "Training model\n",
      "Output label dist\n",
      "0    792\n",
      "5    118\n",
      "1     60\n",
      "4     25\n",
      "2      3\n",
      "3      2\n",
      "dtype: int64\n",
      "Writing submission file: mlp_purpose_submission.csv\n",
      "train: X=(3000, 23045), y=(3000,)\n",
      "test: X=(1000, 23045), y=(1000,)\n",
      "Training model\n",
      "Output label dist\n",
      "1    561\n",
      "0    439\n",
      "dtype: int64\n",
      "Writing submission file: mlp_influence_submission.csv\n"
     ]
    }
   ],
   "source": [
    "for task in TASKS:\n",
    "    model = MLPClassifier(hidden_layer_sizes=(256,256,128))\n",
    "    submission_pipeline(model, df, df_features, task, model_key=\"mlp\", to_dense=False)"
   ]
  },
  {
   "cell_type": "code",
   "execution_count": null,
   "metadata": {},
   "outputs": [],
   "source": []
  }
 ],
 "metadata": {
  "kernelspec": {
   "display_name": "Python 3",
   "language": "python",
   "name": "python3"
  },
  "language_info": {
   "codemirror_mode": {
    "name": "ipython",
    "version": 3
   },
   "file_extension": ".py",
   "mimetype": "text/x-python",
   "name": "python",
   "nbconvert_exporter": "python",
   "pygments_lexer": "ipython3",
   "version": "3.7.3"
  }
 },
 "nbformat": 4,
 "nbformat_minor": 4
}
